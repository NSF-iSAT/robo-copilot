{
 "cells": [
  {
   "cell_type": "code",
   "execution_count": 9,
   "metadata": {},
   "outputs": [],
   "source": [
    "import pandas as pd\n",
    "from collections import Counter\n",
    "import matplotlib.pyplot as plt\n",
    "import numpy as np\n",
    "\n",
    "import pandas as pd\n",
    "import numpy as np\n",
    "from scipy.stats import f_oneway\n",
    "from statsmodels.stats.multicomp import pairwise_tukeyhsd\n",
    "from datetime import datetime\n",
    "from scipy import stats\n",
    "import researchpy as rp"
   ]
  },
  {
   "cell_type": "code",
   "execution_count": 31,
   "metadata": {},
   "outputs": [
    {
     "name": "stdout",
     "output_type": "stream",
     "text": [
      "  Multiple Comparison of Means - Tukey HSD, FWER=0.05   \n",
      "========================================================\n",
      " group1   group2   meandiff p-adj   lower  upper  reject\n",
      "--------------------------------------------------------\n",
      "copilot       ctrl  -0.0785 0.4164 -0.2361 0.0791  False\n",
      "copilot thinkaloud  -0.0941 0.2182  -0.234 0.0457  False\n",
      "   ctrl thinkaloud  -0.0157 0.9655  -0.178 0.1466  False\n",
      "--------------------------------------------------------\n"
     ]
    }
   ],
   "source": [
    "user_performance = pd.read_csv('data.csv', index_col='PID').dropna()\n",
    "\n",
    "tukey = pairwise_tukeyhsd(endog=user_performance['bpm_literal'], \n",
    "    groups=user_performance['condition'],\n",
    "    alpha=0.05)\n",
    "print(tukey)"
   ]
  },
  {
   "cell_type": "code",
   "execution_count": 84,
   "metadata": {},
   "outputs": [
    {
     "name": "stdout",
     "output_type": "stream",
     "text": [
      "condition\n",
      "copilot       0.446512\n",
      "ctrl          0.368026\n",
      "thinkaloud    0.352367\n",
      "Name: bpm_literal, dtype: float64\n",
      "condition\n",
      "copilot       0.080894\n",
      "ctrl          0.150294\n",
      "thinkaloud    0.066614\n",
      "Name: bpm_literal, dtype: float64\n"
     ]
    },
    {
     "data": {
      "text/plain": [
       "{'whiskers': [<matplotlib.lines.Line2D at 0x7fb0ba91e640>,\n",
       "  <matplotlib.lines.Line2D at 0x7fb0ba91e910>,\n",
       "  <matplotlib.lines.Line2D at 0x7fb0ba928a30>,\n",
       "  <matplotlib.lines.Line2D at 0x7fb0ba928d00>,\n",
       "  <matplotlib.lines.Line2D at 0x7fb0ba931e20>,\n",
       "  <matplotlib.lines.Line2D at 0x7fb0ba939130>],\n",
       " 'caps': [<matplotlib.lines.Line2D at 0x7fb0ba91ebe0>,\n",
       "  <matplotlib.lines.Line2D at 0x7fb0ba91eeb0>,\n",
       "  <matplotlib.lines.Line2D at 0x7fb0ba928fd0>,\n",
       "  <matplotlib.lines.Line2D at 0x7fb0ba9312e0>,\n",
       "  <matplotlib.lines.Line2D at 0x7fb0ba939400>,\n",
       "  <matplotlib.lines.Line2D at 0x7fb0ba9396d0>],\n",
       " 'boxes': [<matplotlib.lines.Line2D at 0x7fb0ba91e370>,\n",
       "  <matplotlib.lines.Line2D at 0x7fb0ba928760>,\n",
       "  <matplotlib.lines.Line2D at 0x7fb0ba931b50>],\n",
       " 'medians': [<matplotlib.lines.Line2D at 0x7fb0ba9281c0>,\n",
       "  <matplotlib.lines.Line2D at 0x7fb0ba9315b0>,\n",
       "  <matplotlib.lines.Line2D at 0x7fb0ba9399a0>],\n",
       " 'fliers': [<matplotlib.lines.Line2D at 0x7fb0ba928490>,\n",
       "  <matplotlib.lines.Line2D at 0x7fb0ba931880>,\n",
       "  <matplotlib.lines.Line2D at 0x7fb0ba939c70>],\n",
       " 'means': []}"
      ]
     },
     "execution_count": 84,
     "metadata": {},
     "output_type": "execute_result"
    },
    {
     "data": {
      "image/png": "[encoded data removed]",
      "text/plain": [
       "<Figure size 640x480 with 1 Axes>"
      ]
     },
     "metadata": {},
     "output_type": "display_data"
    }
   ],
   "source": [
    "means = user_performance.groupby('condition').mean()\n",
    "stds = user_performance.groupby('condition').std()\n",
    "\n",
    "print(user_performance.groupby(['condition'])['bpm_literal'].mean())\n",
    "print(user_performance.groupby(['condition'])['bpm_literal'].std())\n",
    "\n",
    "\n",
    "ctrl = user_performance[user_performance['condition'] == 'ctrl']\n",
    "thinkaloud = user_performance[user_performance['condition'] == 'thinkaloud']\n",
    "copilot = user_performance[user_performance['condition'] == 'copilot']\n",
    "\n",
    "groups = [ctrl['bpm_literal'], thinkaloud['bpm_literal'], copilot['bpm_literal']]\n",
    "\n",
    "plt.boxplot(groups, labels=['ctrl', 'thinkaloud', 'copilot'])"
   ]
  },
  {
   "cell_type": "code",
   "execution_count": 39,
   "metadata": {},
   "outputs": [
    {
     "data": {
      "text/html": [
       "<div>\n",
       "<style scoped>\n",
       "    .dataframe tbody tr th:only-of-type {\n",
       "        vertical-align: middle;\n",
       "    }\n",
       "\n",
       "    .dataframe tbody tr th {\n",
       "        vertical-align: top;\n",
       "    }\n",
       "\n",
       "    .dataframe thead th {\n",
       "        text-align: right;\n",
       "    }\n",
       "</style>\n",
       "<table border=\"1\" class=\"dataframe\">\n",
       "  <thead>\n",
       "    <tr style=\"text-align: right;\">\n",
       "      <th></th>\n",
       "      <th>Source</th>\n",
       "      <th>SS</th>\n",
       "      <th>DF</th>\n",
       "      <th>F</th>\n",
       "      <th>p-unc</th>\n",
       "      <th>np2</th>\n",
       "    </tr>\n",
       "  </thead>\n",
       "  <tbody>\n",
       "    <tr>\n",
       "      <th>0</th>\n",
       "      <td>condition</td>\n",
       "      <td>0.041942</td>\n",
       "      <td>2</td>\n",
       "      <td>3.575574</td>\n",
       "      <td>0.057901</td>\n",
       "      <td>0.354875</td>\n",
       "    </tr>\n",
       "    <tr>\n",
       "      <th>1</th>\n",
       "      <td>pretest</td>\n",
       "      <td>0.052970</td>\n",
       "      <td>1</td>\n",
       "      <td>9.031589</td>\n",
       "      <td>0.010136</td>\n",
       "      <td>0.409938</td>\n",
       "    </tr>\n",
       "    <tr>\n",
       "      <th>2</th>\n",
       "      <td>Residual</td>\n",
       "      <td>0.076245</td>\n",
       "      <td>13</td>\n",
       "      <td>NaN</td>\n",
       "      <td>NaN</td>\n",
       "      <td>NaN</td>\n",
       "    </tr>\n",
       "  </tbody>\n",
       "</table>\n",
       "</div>"
      ],
      "text/plain": [
       "      Source        SS  DF         F     p-unc       np2\n",
       "0  condition  0.041942   2  3.575574  0.057901  0.354875\n",
       "1    pretest  0.052970   1  9.031589  0.010136  0.409938\n",
       "2   Residual  0.076245  13       NaN       NaN       NaN"
      ]
     },
     "execution_count": 39,
     "metadata": {},
     "output_type": "execute_result"
    }
   ],
   "source": [
    "from pingouin import ancova\n",
    "ancova(data=user_performance, dv='bpm_literal', covar='pretest', between='condition')\n",
    "# user_performance.plot(x='pretest', y='actual', kind='scatter', figsize=(10, 8))"
   ]
  },
  {
   "cell_type": "code",
   "execution_count": 33,
   "metadata": {},
   "outputs": [
    {
     "name": "stdout",
     "output_type": "stream",
     "text": [
      "                                 OLS Regression Results                                \n",
      "=======================================================================================\n",
      "Dep. Variable:            bpm_literal   R-squared (uncentered):                   0.876\n",
      "Model:                            OLS   Adj. R-squared (uncentered):              0.868\n",
      "Method:                 Least Squares   F-statistic:                              113.0\n",
      "Date:                Tue, 20 Sep 2022   Prob (F-statistic):                    1.17e-08\n",
      "Time:                        16:37:52   Log-Likelihood:                          8.9137\n",
      "No. Observations:                  17   AIC:                                     -15.83\n",
      "Df Residuals:                      16   BIC:                                     -14.99\n",
      "Df Model:                           1                                                  \n",
      "Covariance Type:            nonrobust                                                  \n",
      "==============================================================================\n",
      "                 coef    std err          t      P>|t|      [0.025      0.975]\n",
      "------------------------------------------------------------------------------\n",
      "pretest        0.0663      0.006     10.629      0.000       0.053       0.079\n",
      "==============================================================================\n",
      "Omnibus:                        1.615   Durbin-Watson:                   1.607\n",
      "Prob(Omnibus):                  0.446   Jarque-Bera (JB):                1.016\n",
      "Skew:                          -0.588   Prob(JB):                        0.602\n",
      "Kurtosis:                       2.776   Cond. No.                         1.00\n",
      "==============================================================================\n",
      "\n",
      "Notes:\n",
      "[1] R² is computed without centering (uncentered) since the model does not contain a constant.\n",
      "[2] Standard Errors assume that the covariance matrix of the errors is correctly specified.\n"
     ]
    },
    {
     "name": "stderr",
     "output_type": "stream",
     "text": [
      "/home/kaleb/code/ros_ws/venv/lib/python3.8/site-packages/scipy/stats/_stats_py.py:1769: UserWarning: kurtosistest only valid for n>=20 ... continuing anyway, n=17\n",
      "  warnings.warn(\"kurtosistest only valid for n>=20 ... continuing \"\n"
     ]
    }
   ],
   "source": [
    "import statsmodels.api as sm\n",
    "\n",
    "x = user_performance['pretest']\n",
    "y = user_performance['bpm_literal']\n",
    "\n",
    "model = sm.OLS(y, x).fit()\n",
    "predictions = model.predict(x)\n",
    "print(model.summary())"
   ]
  },
  {
   "cell_type": "code",
   "execution_count": 76,
   "metadata": {},
   "outputs": [
    {
     "name": "stdout",
     "output_type": "stream",
     "text": [
      "competence_agg\n",
      "(     Variable     N      Mean        SD        SE  95% Conf.  Interval\n",
      "0  thinkaloud   6.0  4.055556  0.940843  0.384097   3.068202  5.042910\n",
      "1     copilot   6.0  5.777778  1.103865  0.450651   4.619342  6.936213\n",
      "2    combined  12.0  4.916667  1.328590  0.383531   4.072521  5.760813,                      Independent t-test  results\n",
      "0  Difference (thinkaloud - copilot) =   -1.7222\n",
      "1                 Degrees of freedom =   10.0000\n",
      "2                                  t =   -2.9085\n",
      "3              Two side test p value =    0.0156\n",
      "4             Difference < 0 p value =    0.0078\n",
      "5             Difference > 0 p value =    0.9922\n",
      "6                          Cohen's d =   -1.6792\n",
      "7                          Hedge's g =   -1.5501\n",
      "8                     Glass's delta1 =   -1.8305\n",
      "9                   Point-Biserial r =   -0.6770)\n",
      "discomfort_agg\n",
      "(     Variable     N      Mean        SD        SE  95% Conf.  Interval\n",
      "0  thinkaloud   6.0  1.766667  0.557375  0.227547   1.181738  2.351596\n",
      "1     copilot   6.0  1.666667  0.796660  0.325235   0.830624  2.502710\n",
      "2    combined  12.0  1.716667  0.657590  0.189830   1.298854  2.134479,                      Independent t-test  results\n",
      "0  Difference (thinkaloud - copilot) =    0.1000\n",
      "1                 Degrees of freedom =   10.0000\n",
      "2                                  t =    0.2519\n",
      "3              Two side test p value =    0.8062\n",
      "4             Difference < 0 p value =    0.5969\n",
      "5             Difference > 0 p value =    0.4031\n",
      "6                          Cohen's d =    0.1455\n",
      "7                          Hedge's g =    0.1343\n",
      "8                     Glass's delta1 =    0.1794\n",
      "9                   Point-Biserial r =    0.0794)\n"
     ]
    },
    {
     "name": "stderr",
     "output_type": "stream",
     "text": [
      "/home/kaleb/code/ros_ws/venv/lib/python3.8/site-packages/researchpy/ttest.py:38: FutureWarning: The series.append method is deprecated and will be removed from pandas in a future version. Use pandas.concat instead.\n",
      "  groups = group1.append(group2, ignore_index= True)\n",
      "/home/kaleb/code/ros_ws/venv/lib/python3.8/site-packages/researchpy/ttest.py:38: FutureWarning: The series.append method is deprecated and will be removed from pandas in a future version. Use pandas.concat instead.\n",
      "  groups = group1.append(group2, ignore_index= True)\n"
     ]
    }
   ],
   "source": [
    "import researchpy as rp\n",
    "\n",
    "survey_data = pd.read_csv('survey.csv', index_col='PID')\n",
    "df = survey_data.join(user_performance, on='PID').dropna()\n",
    "\n",
    "\n",
    "df['warmth_agg']     = df[['happy', 'feeling', 'sociable', 'organic', 'compassionate', 'emotional']].mean(axis=1)\n",
    "df['competence_agg'] = df[['capable', 'responsive', 'interactive', 'reliable', 'competent', 'knowledgeable']].mean(axis=1)\n",
    "df['discomfort_agg'] = df[['scary', 'awkward', 'dangerous', 'awful', 'aggressive']].mean(axis=1)\n",
    "\n",
    "df\n",
    "for aggregate in [ 'competence_agg', 'discomfort_agg']:\n",
    "    print(aggregate)\n",
    "    print(rp.ttest(group1=df[aggregate][df['condition'] == 'thinkaloud'], group1_name='thinkaloud',\n",
    "         group2=df[aggregate][df['condition'] == 'copilot'], group2_name='copilot')\n",
    "    )\n",
    "# # rp.ttest(group1=df['competent'][df['condition'] == 'thinkaloud'], group1_name='thinkaloud',\n",
    "#         #  group2=df['competent'][df['condition'] == 'copilot'], group2_name='copilot')\n"
   ]
  },
  {
   "cell_type": "code",
   "execution_count": null,
   "metadata": {},
   "outputs": [],
   "source": []
  }
 ],
 "metadata": {
  "kernelspec": {
   "display_name": "Python 3.8.10 ('venv')",
   "language": "python",
   "name": "python3"
  },
  "language_info": {
   "codemirror_mode": {
    "name": "ipython",
    "version": 3
   },
   "file_extension": ".py",
   "mimetype": "text/x-python",
   "name": "python",
   "nbconvert_exporter": "python",
   "pygments_lexer": "ipython3",
   "version": "3.8.10"
  },
  "orig_nbformat": 4,
  "vscode": {
   "interpreter": {
    "hash": "bcadd3e78239a5e3e44b1c9688f43cb46947b410c3eb110a9381e261a883556e"
   }
  }
 },
 "nbformat": 4,
 "nbformat_minor": 2
}
