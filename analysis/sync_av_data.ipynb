{
 "cells": [
  {
   "cell_type": "code",
   "execution_count": null,
   "metadata": {},
   "outputs": [],
   "source": [
    "from os import system\n",
    "\n",
    "def trim_file(filename, start_pt, end_pt, outfile):\n",
    "    system(\"ffmpeg -i %s -ss %s -to %s -c:v copy -c:a copy %s\" % (filename, start_pt, end_pt, outfile))"
   ]
  },
  {
   "cell_type": "code",
   "execution_count": null,
   "metadata": {},
   "outputs": [],
   "source": [
    "def update_vtt(vtt_filename, start_time, end_duration):\n",
    "    output = []\n",
    "    in_bounds = False\n",
    "    with open(vtt_filename, \"r\") as vtt_file:\n",
    "        for line in vtt_file:\n",
    "            if \"-->\" in line:\n",
    "                utterance_start = line.split(\"-->\")[0].strip()\n",
    "                utterance_start = utterance_start.split(\":\")\n",
    "                utterance_start = int(utterance_start[0]) * 3600 + int(utterance_start[1]) * 60 + float(utterance_start[2])\n",
    "\n",
    "                utterance_end = line.split(\"-->\")[1].strip()\n",
    "                utterance_end = utterance_end.split(\":\")\n",
    "                utterance_end = int(utterance_end[0]) * 3600 + int(utterance_end[1]) * 60 + float(utterance_end[2])\n",
    "\n",
    "                if utterance_start >= start_time:\n",
    "                    in_bounds = True\n",
    "                elif utterance_start > start_time + end_duration:\n",
    "                    in_bounds = False\n",
    "                    break\n",
    "                else:\n",
    "                    continue\n",
    "\n",
    "                new_timestamp_start = utterance_start - start_time\n",
    "                new_timestamp_end   = utterance_end  - start_time\n",
    "\n",
    "                new_timestamp_start = \"%02d:%02d:%02d\" % (new_timestamp_start // 3600, (new_timestamp_start % 3600) // 60, new_timestamp_start % 60)\n",
    "                new_timestamp_end   = \"%02d:%02d:%02d\" % (new_timestamp_end // 3600, (new_timestamp_end % 3600) // 60, new_timestamp_end % 60)\n",
    "\n",
    "                line = \"%s --> %s\\n\" % (new_timestamp_start, new_timestamp_end)\n",
    "                output.append(line)\n",
    "\n",
    "            elif in_bounds:\n",
    "                output.append(line)\n",
    "\n",
    "    output_file = vtt_filename.split(\".\")[0] + \"_trimmed.vtt\"\n",
    "    with open(output_file, \"w\") as vtt_file:\n",
    "        vtt_file.writelines(output)"
   ]
  },
  {
   "cell_type": "code",
   "execution_count": null,
   "metadata": {},
   "outputs": [],
   "source": []
  }
 ],
 "metadata": {
  "kernelspec": {
   "display_name": "Python 3.8.10 ('venv')",
   "language": "python",
   "name": "python3"
  },
  "language_info": {
   "name": "python",
   "version": "3.8.10"
  },
  "orig_nbformat": 4,
  "vscode": {
   "interpreter": {
    "hash": "bcadd3e78239a5e3e44b1c9688f43cb46947b410c3eb110a9381e261a883556e"
   }
  }
 },
 "nbformat": 4,
 "nbformat_minor": 2
}
